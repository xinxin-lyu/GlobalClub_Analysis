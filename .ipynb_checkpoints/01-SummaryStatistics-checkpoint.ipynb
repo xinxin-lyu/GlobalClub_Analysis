{
 "cells": [
  {
   "cell_type": "markdown",
   "id": "dbf9880c",
   "metadata": {},
   "source": [
    "# This file is used to produce summary statistics \n",
    "\n",
    "Based on data cleaned in Stata. "
   ]
  },
  {
   "cell_type": "code",
   "execution_count": 1,
   "id": "714fc492",
   "metadata": {},
   "outputs": [],
   "source": [
    "datafolder = \"C:\\\\Users\\\\xinxi\\\\Purdue\\\\EffectiveSocialLearningProject\\\\DataAnalysis\\\\ImportedData\"\n",
    "outputfolder = \"C:\\\\Users\\\\xinxi\\\\Purdue\\\\EffectiveSocialLearningProject\\\\DataAnalysis\\\\Output_Figures\" "
   ]
  },
  {
   "cell_type": "code",
   "execution_count": 2,
   "id": "2b55be71",
   "metadata": {},
   "outputs": [
    {
     "ename": "ModuleNotFoundError",
     "evalue": "No module named 'MyLatexFunctions_SocialLearning'",
     "output_type": "error",
     "traceback": [
      "\u001b[1;31m---------------------------------------------------------------------------\u001b[0m",
      "\u001b[1;31mModuleNotFoundError\u001b[0m                       Traceback (most recent call last)",
      "\u001b[1;32m~\\AppData\\Local\\Temp/ipykernel_28484/3308116844.py\u001b[0m in \u001b[0;36m<module>\u001b[1;34m\u001b[0m\n\u001b[0;32m     14\u001b[0m \u001b[1;32mimport\u001b[0m \u001b[0mshutil\u001b[0m\u001b[1;33m\u001b[0m\u001b[1;33m\u001b[0m\u001b[0m\n\u001b[0;32m     15\u001b[0m \u001b[1;32mimport\u001b[0m \u001b[0mcsv\u001b[0m\u001b[1;33m\u001b[0m\u001b[1;33m\u001b[0m\u001b[0m\n\u001b[1;32m---> 16\u001b[1;33m \u001b[1;32mfrom\u001b[0m \u001b[0mMyLatexFunctions_SocialLearning\u001b[0m \u001b[1;32mimport\u001b[0m \u001b[1;33m*\u001b[0m\u001b[1;33m\u001b[0m\u001b[1;33m\u001b[0m\u001b[0m\n\u001b[0m\u001b[0;32m     17\u001b[0m \u001b[1;32mfrom\u001b[0m \u001b[0mitertools\u001b[0m \u001b[1;32mimport\u001b[0m \u001b[0mpermutations\u001b[0m\u001b[1;33m\u001b[0m\u001b[1;33m\u001b[0m\u001b[0m\n\u001b[0;32m     18\u001b[0m \u001b[1;32mfrom\u001b[0m \u001b[0mitertools\u001b[0m \u001b[1;32mimport\u001b[0m \u001b[0mcombinations\u001b[0m\u001b[1;33m\u001b[0m\u001b[1;33m\u001b[0m\u001b[0m\n",
      "\u001b[1;31mModuleNotFoundError\u001b[0m: No module named 'MyLatexFunctions_SocialLearning'"
     ]
    }
   ],
   "source": [
    "import numpy as np\n",
    "from scipy.optimize import minimize\n",
    "import matplotlib.pyplot as plt\n",
    "%matplotlib inline\n",
    "import numpy as np\n",
    "import pandas as pd\n",
    "import copy\n",
    "import os\n",
    "import random\n",
    "import math as math\n",
    "import matplotlib.pylab as plt #Typically matplotlib.pylab is imported as plt (shortened name)\n",
    "import pdb\n",
    "from scipy.optimize import minimize\n",
    "import shutil\n",
    "import csv\n",
    "from MyLatexFunctions_SocialLearning import * \n",
    "from itertools import permutations \n",
    "from itertools import combinations\n",
    "import csv\n",
    "\n",
    "\n",
    "import networkx as nx"
   ]
  },
  {
   "cell_type": "code",
   "execution_count": null,
   "id": "8a32b63f",
   "metadata": {},
   "outputs": [],
   "source": [
    "data['earning'].mean()"
   ]
  },
  {
   "cell_type": "code",
   "execution_count": null,
   "id": "011a13df",
   "metadata": {},
   "outputs": [],
   "source": [
    "# Session and Treatment Summary\n",
    "data = pd.read_csv(datafolder+\"\\\\All_sessions_from_Stata.csv\")\n",
    "data_selected = data[['session', 'network_type', 'waiting_cost', 'date', 'earning', 'male', 'STEM','US_born']]\n",
    "data_selected['network_type'] = data_selected['network_type'].replace(['a','b'], ['NC', 'C'])\n",
    "data_selected['earning'] = data_selected['earning'].round(decimals=0)\n",
    "df = data_selected.groupby(by=[\"session\",'date', 'network_type', 'waiting_cost' ]).mean().reset_index()\n",
    "df.columns = pd.MultiIndex.from_tuples([\n",
    "     (\"\", \"session\"),\n",
    "     (\"\", \"date\"),\n",
    "    (\"Treatment\", \"network_type\"),\n",
    "     (\"Treatment\", \"waiting_cost\"),\n",
    "     (\"Treatment\", \"earning\"),\n",
    "    (\"Demographics\", \"male\"),\n",
    "    (\"Demographics\", \"STEM\"),\n",
    "     (\"Demographics\", \"US_born\"),\n",
    "])\n",
    "\n",
    "# pd.options.display.float_format = '{:,.2f}'.format\n",
    "\n",
    "\n",
    "df.rename(columns = {'earning': 'Earnings', 'session':'Session', 'date':'Date', 'network_type':'Network Type',\n",
    "                    'waiting_cost': 'Waiting Cost', 'male':\"% Male\", 'STEM':'% STEM', 'US_born':\"% U.S. Borned\"}, inplace = True)\n",
    "\n",
    "\n",
    "print(df.to_latex(column_format=\"cccccccc\",index=False))\n",
    "out_text = df.to_latex(column_format=\"cccccccc\",index=False)\n",
    "file_name = '01-SummaryStatistics-SummarybySession'\n",
    "tex_file_name=file_name+\".tex\"\n",
    "f = open(outputfolder+\"\\\\\"+tex_file_name, 'w')\n",
    "f.write(out_text)\n",
    "f.close()\n",
    "\n",
    "\n",
    "    "
   ]
  },
  {
   "cell_type": "code",
   "execution_count": null,
   "id": "a0bd5b9a",
   "metadata": {},
   "outputs": [],
   "source": [
    "df = data_selected.groupby(by=['network_type', 'waiting_cost' ]).mean().reset_index()\n",
    "df = df.drop(['session'], axis=1)\n",
    "s = data_selected.groupby(by=['network_type', 'waiting_cost' ])['earning'].count().reset_index()\n",
    "df = df.merge(s, on=['network_type', 'waiting_cost'],suffixes=('', '_r'))\n",
    "df['Sessions'] = df['earning_r']/10\n",
    "df = df.drop(['earning_r'], axis=1)\n",
    "df['earning'] = df['earning'].round(decimals=2)\n",
    "df['Sessions'] = df['Sessions'].astype(int)\n",
    "df = df[['network_type', 'waiting_cost', 'Sessions',  'earning', 'male', 'STEM','US_born']]\n",
    "df.columns = pd.MultiIndex.from_tuples([\n",
    "    (\"Treatment\", \"network_type\"),\n",
    "     (\"Treatment\", \"waiting_cost\"),\n",
    "    ('Administration', 'Sessions'),\n",
    "     (\"Administration\", \"earning\"),\n",
    "    (\"Demographics\", \"male\"),\n",
    "    (\"Demographics\", \"STEM\"),\n",
    "     (\"Demographics\", \"US_born\"),\n",
    "])\n",
    "\n",
    "# pd.options.display.float_format = '{:,.2f}'.format\n",
    "\n",
    "\n",
    "df.rename(columns = {'earning': 'Earnings', 'network_type':'Network Type',\n",
    "                    'waiting_cost': 'Waiting Cost', 'male':\"% Male\", 'STEM':'% STEM', 'US_born':\"% U.S. Borned\"}, inplace = True)\n",
    "\n",
    "\n",
    "print(df.to_latex(column_format=\"cccccccc\",multicolumn_format='c'))\n",
    "out_text = df.to_latex(column_format=\"cccccccc\", multicolumn_format='c')\n",
    "file_name = '01-SummaryStatistics-SummarybyTreatment'\n",
    "tex_file_name=file_name+\".tex\"\n",
    "f = open(outputfolder+\"\\\\\"+tex_file_name, 'w')\n",
    "f.write(out_text)\n",
    "f.close()\n"
   ]
  },
  {
   "cell_type": "code",
   "execution_count": 87,
   "id": "fc51246b",
   "metadata": {},
   "outputs": [
    {
     "data": {
      "text/html": [
       "<div>\n",
       "<style scoped>\n",
       "    .dataframe tbody tr th:only-of-type {\n",
       "        vertical-align: middle;\n",
       "    }\n",
       "\n",
       "    .dataframe tbody tr th {\n",
       "        vertical-align: top;\n",
       "    }\n",
       "\n",
       "    .dataframe thead th {\n",
       "        text-align: right;\n",
       "    }\n",
       "</style>\n",
       "<table border=\"1\" class=\"dataframe\">\n",
       "  <thead>\n",
       "    <tr style=\"text-align: right;\">\n",
       "      <th></th>\n",
       "      <th>network_type</th>\n",
       "      <th>waiting_cost</th>\n",
       "      <th>earning</th>\n",
       "      <th>male</th>\n",
       "      <th>STEM</th>\n",
       "      <th>US_born</th>\n",
       "    </tr>\n",
       "  </thead>\n",
       "  <tbody>\n",
       "    <tr>\n",
       "      <th>0</th>\n",
       "      <td>C</td>\n",
       "      <td>H</td>\n",
       "      <td>23.05</td>\n",
       "      <td>65.0</td>\n",
       "      <td>85.0</td>\n",
       "      <td>40.0</td>\n",
       "    </tr>\n",
       "    <tr>\n",
       "      <th>1</th>\n",
       "      <td>C</td>\n",
       "      <td>L</td>\n",
       "      <td>24.84</td>\n",
       "      <td>50.0</td>\n",
       "      <td>56.0</td>\n",
       "      <td>70.0</td>\n",
       "    </tr>\n",
       "    <tr>\n",
       "      <th>2</th>\n",
       "      <td>NC</td>\n",
       "      <td>H</td>\n",
       "      <td>24.55</td>\n",
       "      <td>55.0</td>\n",
       "      <td>55.0</td>\n",
       "      <td>65.0</td>\n",
       "    </tr>\n",
       "    <tr>\n",
       "      <th>3</th>\n",
       "      <td>NC</td>\n",
       "      <td>L</td>\n",
       "      <td>24.92</td>\n",
       "      <td>50.0</td>\n",
       "      <td>60.0</td>\n",
       "      <td>67.5</td>\n",
       "    </tr>\n",
       "  </tbody>\n",
       "</table>\n",
       "</div>"
      ],
      "text/plain": [
       "  network_type waiting_cost  earning  male  STEM  US_born\n",
       "0            C            H    23.05  65.0  85.0     40.0\n",
       "1            C            L    24.84  50.0  56.0     70.0\n",
       "2           NC            H    24.55  55.0  55.0     65.0\n",
       "3           NC            L    24.92  50.0  60.0     67.5"
      ]
     },
     "execution_count": 87,
     "metadata": {},
     "output_type": "execute_result"
    }
   ],
   "source": [
    "df = data_selected.groupby(by=['network_type', 'waiting_cost' ]).mean().reset_index()\n",
    "df = df.drop(['session'], axis=1)\n",
    "\n",
    "df"
   ]
  },
  {
   "cell_type": "code",
   "execution_count": 68,
   "id": "3962ac4d",
   "metadata": {},
   "outputs": [],
   "source": [
    "treatment_data = data_selected.groupby(by=['network_type', 'waiting_cost' ])\n",
    "var = 'earning'\n",
    "r1 = treatment_data[var].mean()\n",
    "r2 = treatment_data[var].std()\n",
    "df_c = pd.concat([r1,r2.apply(lambda x: \"(\"+\"{:.2f}\".format(x)+\")\")])\n",
    "output = df_c.sort_index().rename(var)\n",
    "\n",
    "for var in [ 'male', 'STEM','US_born']:\n",
    "    \n",
    "    r1 = treatment_data[var].mean()\n",
    "    r2 = treatment_data[var].std()\n",
    "    df_c = pd.concat([r1,r2.apply(lambda x: \"(\"+\"{:.2f}\".format(x)+\")\")])\n",
    "    df_cc = df_c.sort_index().rename(var)\n",
    "\n",
    "    output = pd.concat([output, df_cc], axis=1)"
   ]
  },
  {
   "cell_type": "code",
   "execution_count": 67,
   "id": "b6cd2659",
   "metadata": {},
   "outputs": [
    {
     "data": {
      "text/html": [
       "<div>\n",
       "<style scoped>\n",
       "    .dataframe tbody tr th:only-of-type {\n",
       "        vertical-align: middle;\n",
       "    }\n",
       "\n",
       "    .dataframe tbody tr th {\n",
       "        vertical-align: top;\n",
       "    }\n",
       "\n",
       "    .dataframe thead th {\n",
       "        text-align: right;\n",
       "    }\n",
       "</style>\n",
       "<table border=\"1\" class=\"dataframe\">\n",
       "  <thead>\n",
       "    <tr style=\"text-align: right;\">\n",
       "      <th></th>\n",
       "      <th></th>\n",
       "      <th>earning</th>\n",
       "      <th>male</th>\n",
       "      <th>STEM</th>\n",
       "      <th>US_born</th>\n",
       "      <th>US_bornright</th>\n",
       "    </tr>\n",
       "    <tr>\n",
       "      <th>network_type</th>\n",
       "      <th>waiting_cost</th>\n",
       "      <th></th>\n",
       "      <th></th>\n",
       "      <th></th>\n",
       "      <th></th>\n",
       "      <th></th>\n",
       "    </tr>\n",
       "  </thead>\n",
       "  <tbody>\n",
       "    <tr>\n",
       "      <th rowspan=\"4\" valign=\"top\">C</th>\n",
       "      <th>H</th>\n",
       "      <td>23.05</td>\n",
       "      <td>65.0</td>\n",
       "      <td>85.0</td>\n",
       "      <td>40.0</td>\n",
       "      <td>40.0</td>\n",
       "    </tr>\n",
       "    <tr>\n",
       "      <th>H</th>\n",
       "      <td>(2.54)</td>\n",
       "      <td>(48.94)</td>\n",
       "      <td>(36.63)</td>\n",
       "      <td>(50.26)</td>\n",
       "      <td>40.0</td>\n",
       "    </tr>\n",
       "    <tr>\n",
       "      <th>L</th>\n",
       "      <td>24.84</td>\n",
       "      <td>50.0</td>\n",
       "      <td>56.0</td>\n",
       "      <td>70.0</td>\n",
       "      <td>70.0</td>\n",
       "    </tr>\n",
       "    <tr>\n",
       "      <th>L</th>\n",
       "      <td>(2.11)</td>\n",
       "      <td>(50.51)</td>\n",
       "      <td>(50.14)</td>\n",
       "      <td>(46.29)</td>\n",
       "      <td>70.0</td>\n",
       "    </tr>\n",
       "    <tr>\n",
       "      <th rowspan=\"4\" valign=\"top\">NC</th>\n",
       "      <th>H</th>\n",
       "      <td>24.55</td>\n",
       "      <td>55.0</td>\n",
       "      <td>55.0</td>\n",
       "      <td>65.0</td>\n",
       "      <td>65.0</td>\n",
       "    </tr>\n",
       "    <tr>\n",
       "      <th>H</th>\n",
       "      <td>(1.73)</td>\n",
       "      <td>(51.04)</td>\n",
       "      <td>(51.04)</td>\n",
       "      <td>(48.94)</td>\n",
       "      <td>65.0</td>\n",
       "    </tr>\n",
       "    <tr>\n",
       "      <th>L</th>\n",
       "      <td>24.925</td>\n",
       "      <td>50.0</td>\n",
       "      <td>60.0</td>\n",
       "      <td>67.5</td>\n",
       "      <td>67.5</td>\n",
       "    </tr>\n",
       "    <tr>\n",
       "      <th>L</th>\n",
       "      <td>(1.97)</td>\n",
       "      <td>(50.64)</td>\n",
       "      <td>(49.61)</td>\n",
       "      <td>(47.43)</td>\n",
       "      <td>67.5</td>\n",
       "    </tr>\n",
       "  </tbody>\n",
       "</table>\n",
       "</div>"
      ],
      "text/plain": [
       "                          earning     male     STEM  US_born  US_bornright\n",
       "network_type waiting_cost                                                 \n",
       "C            H              23.05     65.0     85.0     40.0          40.0\n",
       "             H             (2.54)  (48.94)  (36.63)  (50.26)          40.0\n",
       "             L              24.84     50.0     56.0     70.0          70.0\n",
       "             L             (2.11)  (50.51)  (50.14)  (46.29)          70.0\n",
       "NC           H              24.55     55.0     55.0     65.0          65.0\n",
       "             H             (1.73)  (51.04)  (51.04)  (48.94)          65.0\n",
       "             L             24.925     50.0     60.0     67.5          67.5\n",
       "             L             (1.97)  (50.64)  (49.61)  (47.43)          67.5"
      ]
     },
     "execution_count": 67,
     "metadata": {},
     "output_type": "execute_result"
    }
   ],
   "source": [
    "output.join(r1, how=\"outer\", rsuffix='right')"
   ]
  },
  {
   "cell_type": "code",
   "execution_count": 60,
   "id": "6ca10026",
   "metadata": {},
   "outputs": [
    {
     "data": {
      "text/plain": [
       "network_type  waiting_cost\n",
       "C             H               20\n",
       "              L               50\n",
       "NC            H               20\n",
       "              L               40\n",
       "Name: US_born, dtype: int64"
      ]
     },
     "execution_count": 60,
     "metadata": {},
     "output_type": "execute_result"
    }
   ],
   "source": [
    "treatment_data = data_selected.groupby(by=['network_type', 'waiting_cost' ])\n",
    "r1 = treatment_data[var].count()\n",
    "r1"
   ]
  },
  {
   "cell_type": "code",
   "execution_count": 45,
   "id": "f6e325a0",
   "metadata": {},
   "outputs": [
    {
     "data": {
      "text/plain": [
       "network_type  waiting_cost\n",
       "C             H                23.05\n",
       "              H               (2.54)\n",
       "              L                24.84\n",
       "              L               (2.11)\n",
       "NC            H                24.55\n",
       "              H               (1.73)\n",
       "              L               24.925\n",
       "              L               (1.97)\n",
       "Name: earning, dtype: object"
      ]
     },
     "execution_count": 45,
     "metadata": {},
     "output_type": "execute_result"
    }
   ],
   "source": [
    "output\n"
   ]
  },
  {
   "cell_type": "code",
   "execution_count": null,
   "id": "1706956d",
   "metadata": {},
   "outputs": [],
   "source": []
  }
 ],
 "metadata": {
  "kernelspec": {
   "display_name": "Python 3 (ipykernel)",
   "language": "python",
   "name": "python3"
  },
  "language_info": {
   "codemirror_mode": {
    "name": "ipython",
    "version": 3
   },
   "file_extension": ".py",
   "mimetype": "text/x-python",
   "name": "python",
   "nbconvert_exporter": "python",
   "pygments_lexer": "ipython3",
   "version": "3.9.7"
  }
 },
 "nbformat": 4,
 "nbformat_minor": 5
}
